{
 "cells": [
  {
   "cell_type": "code",
   "execution_count": null,
   "id": "0bbf0572-85ff-4f57-8152-90991cc3ecd1",
   "metadata": {},
   "outputs": [],
   "source": []
  }
 ],
 "metadata": {
  "kernelspec": {
   "display_name": "",
   "name": ""
  },
  "language_info": {
   "name": ""
  }
 },
 "nbformat": 4,
 "nbformat_minor": 5
}
